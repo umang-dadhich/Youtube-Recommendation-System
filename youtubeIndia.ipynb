{
 "cells": [
  {
   "cell_type": "markdown",
   "id": "a07935eb-d23b-49f0-b4c8-21f090107a99",
   "metadata": {},
   "source": [
    "# Load and Explore the Dataset"
   ]
  },
  {
   "cell_type": "code",
   "execution_count": 16,
   "id": "059ed709-6aed-473c-94bc-5160a2f5bf6a",
   "metadata": {},
   "outputs": [
    {
     "data": {
      "text/html": [
       "<div>\n",
       "<style scoped>\n",
       "    .dataframe tbody tr th:only-of-type {\n",
       "        vertical-align: middle;\n",
       "    }\n",
       "\n",
       "    .dataframe tbody tr th {\n",
       "        vertical-align: top;\n",
       "    }\n",
       "\n",
       "    .dataframe thead th {\n",
       "        text-align: right;\n",
       "    }\n",
       "</style>\n",
       "<table border=\"1\" class=\"dataframe\">\n",
       "  <thead>\n",
       "    <tr style=\"text-align: right;\">\n",
       "      <th></th>\n",
       "      <th>video_id</th>\n",
       "      <th>trending_date</th>\n",
       "      <th>title</th>\n",
       "      <th>channel_title</th>\n",
       "      <th>category_id</th>\n",
       "      <th>publish_time</th>\n",
       "      <th>tags</th>\n",
       "      <th>views</th>\n",
       "      <th>likes</th>\n",
       "      <th>dislikes</th>\n",
       "      <th>comment_count</th>\n",
       "      <th>thumbnail_link</th>\n",
       "      <th>comments_disabled</th>\n",
       "      <th>ratings_disabled</th>\n",
       "      <th>video_error_or_removed</th>\n",
       "      <th>description</th>\n",
       "    </tr>\n",
       "  </thead>\n",
       "  <tbody>\n",
       "    <tr>\n",
       "      <th>0</th>\n",
       "      <td>kzwfHumJyYc</td>\n",
       "      <td>17.14.11</td>\n",
       "      <td>Sharry Mann: Cute Munda ( Song Teaser) | Parmi...</td>\n",
       "      <td>Lokdhun Punjabi</td>\n",
       "      <td>1</td>\n",
       "      <td>2017-11-12T12:20:39.000Z</td>\n",
       "      <td>sharry mann|\"sharry mann new song\"|\"sharry man...</td>\n",
       "      <td>1096327</td>\n",
       "      <td>33966</td>\n",
       "      <td>798</td>\n",
       "      <td>882</td>\n",
       "      <td>https://i.ytimg.com/vi/kzwfHumJyYc/default.jpg</td>\n",
       "      <td>False</td>\n",
       "      <td>False</td>\n",
       "      <td>False</td>\n",
       "      <td>Presenting Sharry Mann latest Punjabi Song  Cu...</td>\n",
       "    </tr>\n",
       "    <tr>\n",
       "      <th>1</th>\n",
       "      <td>zUZ1z7FwLc8</td>\n",
       "      <td>17.14.11</td>\n",
       "      <td>पीरियड्स के समय, पेट पर पति करता ऐसा, देखकर दं...</td>\n",
       "      <td>HJ NEWS</td>\n",
       "      <td>25</td>\n",
       "      <td>2017-11-13T05:43:56.000Z</td>\n",
       "      <td>पीरियड्स के समय|\"पेट पर पति करता ऐसा\"|\"देखकर द...</td>\n",
       "      <td>590101</td>\n",
       "      <td>735</td>\n",
       "      <td>904</td>\n",
       "      <td>0</td>\n",
       "      <td>https://i.ytimg.com/vi/zUZ1z7FwLc8/default.jpg</td>\n",
       "      <td>True</td>\n",
       "      <td>False</td>\n",
       "      <td>False</td>\n",
       "      <td>पीरियड्स के समय, पेट पर पति करता ऐसा, देखकर दं...</td>\n",
       "    </tr>\n",
       "    <tr>\n",
       "      <th>2</th>\n",
       "      <td>10L1hZ9qa58</td>\n",
       "      <td>17.14.11</td>\n",
       "      <td>Stylish Star Allu Arjun @ ChaySam Wedding Rece...</td>\n",
       "      <td>TFPC</td>\n",
       "      <td>24</td>\n",
       "      <td>2017-11-12T15:48:08.000Z</td>\n",
       "      <td>Stylish Star Allu Arjun @ ChaySam Wedding Rece...</td>\n",
       "      <td>473988</td>\n",
       "      <td>2011</td>\n",
       "      <td>243</td>\n",
       "      <td>149</td>\n",
       "      <td>https://i.ytimg.com/vi/10L1hZ9qa58/default.jpg</td>\n",
       "      <td>False</td>\n",
       "      <td>False</td>\n",
       "      <td>False</td>\n",
       "      <td>Watch Stylish Star Allu Arjun @ ChaySam Weddin...</td>\n",
       "    </tr>\n",
       "    <tr>\n",
       "      <th>3</th>\n",
       "      <td>N1vE8iiEg64</td>\n",
       "      <td>17.14.11</td>\n",
       "      <td>Eruma Saani | Tamil vs English</td>\n",
       "      <td>Eruma Saani</td>\n",
       "      <td>23</td>\n",
       "      <td>2017-11-12T07:08:48.000Z</td>\n",
       "      <td>Eruma Saani|\"Tamil Comedy Videos\"|\"Films\"|\"Mov...</td>\n",
       "      <td>1242680</td>\n",
       "      <td>70353</td>\n",
       "      <td>1624</td>\n",
       "      <td>2684</td>\n",
       "      <td>https://i.ytimg.com/vi/N1vE8iiEg64/default.jpg</td>\n",
       "      <td>False</td>\n",
       "      <td>False</td>\n",
       "      <td>False</td>\n",
       "      <td>This video showcases the difference between pe...</td>\n",
       "    </tr>\n",
       "    <tr>\n",
       "      <th>4</th>\n",
       "      <td>kJzGH0PVQHQ</td>\n",
       "      <td>17.14.11</td>\n",
       "      <td>why Samantha became EMOTIONAL @ Samantha naga ...</td>\n",
       "      <td>Filmylooks</td>\n",
       "      <td>24</td>\n",
       "      <td>2017-11-13T01:14:16.000Z</td>\n",
       "      <td>Filmylooks|\"latest news\"|\"telugu movies\"|\"telu...</td>\n",
       "      <td>464015</td>\n",
       "      <td>492</td>\n",
       "      <td>293</td>\n",
       "      <td>66</td>\n",
       "      <td>https://i.ytimg.com/vi/kJzGH0PVQHQ/default.jpg</td>\n",
       "      <td>False</td>\n",
       "      <td>False</td>\n",
       "      <td>False</td>\n",
       "      <td>why Samantha became EMOTIONAL @ Samantha naga ...</td>\n",
       "    </tr>\n",
       "  </tbody>\n",
       "</table>\n",
       "</div>"
      ],
      "text/plain": [
       "      video_id trending_date  \\\n",
       "0  kzwfHumJyYc      17.14.11   \n",
       "1  zUZ1z7FwLc8      17.14.11   \n",
       "2  10L1hZ9qa58      17.14.11   \n",
       "3  N1vE8iiEg64      17.14.11   \n",
       "4  kJzGH0PVQHQ      17.14.11   \n",
       "\n",
       "                                               title    channel_title  \\\n",
       "0  Sharry Mann: Cute Munda ( Song Teaser) | Parmi...  Lokdhun Punjabi   \n",
       "1  पीरियड्स के समय, पेट पर पति करता ऐसा, देखकर दं...          HJ NEWS   \n",
       "2  Stylish Star Allu Arjun @ ChaySam Wedding Rece...             TFPC   \n",
       "3                     Eruma Saani | Tamil vs English      Eruma Saani   \n",
       "4  why Samantha became EMOTIONAL @ Samantha naga ...       Filmylooks   \n",
       "\n",
       "   category_id              publish_time  \\\n",
       "0            1  2017-11-12T12:20:39.000Z   \n",
       "1           25  2017-11-13T05:43:56.000Z   \n",
       "2           24  2017-11-12T15:48:08.000Z   \n",
       "3           23  2017-11-12T07:08:48.000Z   \n",
       "4           24  2017-11-13T01:14:16.000Z   \n",
       "\n",
       "                                                tags    views  likes  \\\n",
       "0  sharry mann|\"sharry mann new song\"|\"sharry man...  1096327  33966   \n",
       "1  पीरियड्स के समय|\"पेट पर पति करता ऐसा\"|\"देखकर द...   590101    735   \n",
       "2  Stylish Star Allu Arjun @ ChaySam Wedding Rece...   473988   2011   \n",
       "3  Eruma Saani|\"Tamil Comedy Videos\"|\"Films\"|\"Mov...  1242680  70353   \n",
       "4  Filmylooks|\"latest news\"|\"telugu movies\"|\"telu...   464015    492   \n",
       "\n",
       "   dislikes  comment_count                                  thumbnail_link  \\\n",
       "0       798            882  https://i.ytimg.com/vi/kzwfHumJyYc/default.jpg   \n",
       "1       904              0  https://i.ytimg.com/vi/zUZ1z7FwLc8/default.jpg   \n",
       "2       243            149  https://i.ytimg.com/vi/10L1hZ9qa58/default.jpg   \n",
       "3      1624           2684  https://i.ytimg.com/vi/N1vE8iiEg64/default.jpg   \n",
       "4       293             66  https://i.ytimg.com/vi/kJzGH0PVQHQ/default.jpg   \n",
       "\n",
       "   comments_disabled  ratings_disabled  video_error_or_removed  \\\n",
       "0              False             False                   False   \n",
       "1               True             False                   False   \n",
       "2              False             False                   False   \n",
       "3              False             False                   False   \n",
       "4              False             False                   False   \n",
       "\n",
       "                                         description  \n",
       "0  Presenting Sharry Mann latest Punjabi Song  Cu...  \n",
       "1  पीरियड्स के समय, पेट पर पति करता ऐसा, देखकर दं...  \n",
       "2  Watch Stylish Star Allu Arjun @ ChaySam Weddin...  \n",
       "3  This video showcases the difference between pe...  \n",
       "4  why Samantha became EMOTIONAL @ Samantha naga ...  "
      ]
     },
     "execution_count": 16,
     "metadata": {},
     "output_type": "execute_result"
    }
   ],
   "source": [
    "import pandas as pd\n",
    "\n",
    "df = pd.read_csv(\"INvideos.csv\")\n",
    "df.head()\n"
   ]
  },
  {
   "cell_type": "markdown",
   "id": "6df77745-cf2b-4418-aba0-e7d2ee018ae5",
   "metadata": {},
   "source": [
    "# Clean and Prepare the Data"
   ]
  },
  {
   "cell_type": "code",
   "execution_count": 18,
   "id": "082499d9-2a00-4afa-869b-48404feac636",
   "metadata": {},
   "outputs": [],
   "source": [
    "df['publish_time'] = pd.to_datetime(df['publish_time'])\n",
    "df['publish_hour'] = df['publish_time'].dt.hour"
   ]
  },
  {
   "cell_type": "markdown",
   "id": "3f1d7490-4847-4d3a-b032-de07af6e4533",
   "metadata": {},
   "source": [
    "## View the first few rows (including new column)"
   ]
  },
  {
   "cell_type": "code",
   "execution_count": 22,
   "id": "6a5a2706-6d40-48a5-a251-cff60aa1e5cc",
   "metadata": {},
   "outputs": [
    {
     "name": "stdout",
     "output_type": "stream",
     "text": [
      "               publish_time  publish_hour\n",
      "0 2017-11-12 12:20:39+00:00            12\n",
      "1 2017-11-13 05:43:56+00:00             5\n",
      "2 2017-11-12 15:48:08+00:00            15\n",
      "3 2017-11-12 07:08:48+00:00             7\n",
      "4 2017-11-13 01:14:16+00:00             1\n"
     ]
    }
   ],
   "source": [
    "print(df[['publish_time', 'publish_hour']].head())"
   ]
  },
  {
   "cell_type": "markdown",
   "id": "c620cc01-0f39-4d09-9fbc-05b7393a427d",
   "metadata": {},
   "source": [
    "## Check value counts of hours (summary)"
   ]
  },
  {
   "cell_type": "code",
   "execution_count": 24,
   "id": "2746da8b-0b45-4271-b563-335cc490dc12",
   "metadata": {},
   "outputs": [
    {
     "name": "stdout",
     "output_type": "stream",
     "text": [
      "publish_hour\n",
      "0      400\n",
      "1      585\n",
      "2      978\n",
      "3     1330\n",
      "4     1960\n",
      "5     2184\n",
      "6     2323\n",
      "7     2119\n",
      "8     2051\n",
      "9     1863\n",
      "10    2058\n",
      "11    2295\n",
      "12    2782\n",
      "13    2631\n",
      "14    2838\n",
      "15    2130\n",
      "16    2134\n",
      "17    1587\n",
      "18     849\n",
      "19     524\n",
      "20     335\n",
      "21     359\n",
      "22     531\n",
      "23     506\n",
      "Name: count, dtype: int64\n"
     ]
    }
   ],
   "source": [
    "print(df['publish_hour'].value_counts().sort_index())"
   ]
  },
  {
   "cell_type": "markdown",
   "id": "75d2669b-d9d1-4d73-8c56-025e4c294592",
   "metadata": {},
   "source": [
    "## Print entire columns (only if data is small)"
   ]
  },
  {
   "cell_type": "code",
   "execution_count": 26,
   "id": "4f8eba60-0b3a-4230-99f8-fe5022210d96",
   "metadata": {},
   "outputs": [
    {
     "name": "stdout",
     "output_type": "stream",
     "text": [
      "0        12\n",
      "1         5\n",
      "2        15\n",
      "3         7\n",
      "4         1\n",
      "         ..\n",
      "37347     8\n",
      "37348    11\n",
      "37349     5\n",
      "37350    15\n",
      "37351     4\n",
      "Name: publish_hour, Length: 37352, dtype: int32\n"
     ]
    }
   ],
   "source": [
    "print(df['publish_hour'])"
   ]
  },
  {
   "cell_type": "markdown",
   "id": "7ec9ca43-2919-44e0-8253-398b709f0ce6",
   "metadata": {},
   "source": [
    "# Exploratory Data Analysis (EDA)"
   ]
  },
  {
   "cell_type": "code",
   "execution_count": 28,
   "id": "d6bebcff-7644-4660-9078-7192891e8984",
   "metadata": {},
   "outputs": [
    {
     "name": "stderr",
     "output_type": "stream",
     "text": [
      "C:\\Users\\admin\\AppData\\Local\\Temp\\ipykernel_3684\\4172040430.py:15: FutureWarning: \n",
      "\n",
      "Passing `palette` without assigning `hue` is deprecated and will be removed in v0.14.0. Assign the `x` variable to `hue` and set `legend=False` for the same effect.\n",
      "\n",
      "  sns.barplot(x=category_views.index, y=category_views.values, palette=\"Blues_d\")\n"
     ]
    },
    {
     "data": {
      "image/png": "[encoded data removed]",
      "text/plain": [
       "<Figure size 1800x500 with 4 Axes>"
      ]
     },
     "metadata": {},
     "output_type": "display_data"
    }
   ],
   "source": [
    "import pandas as pd\n",
    "import matplotlib.pyplot as plt\n",
    "import seaborn as sns\n",
    "\n",
    "# Ensure necessary datetime and numeric columns\n",
    "df['publish_time'] = pd.to_datetime(df['publish_time'])\n",
    "df['publish_hour'] = df['publish_time'].dt.hour\n",
    "\n",
    "# Create a 1x3 grid of plots\n",
    "plt.figure(figsize=(18, 5))\n",
    "\n",
    "# ----------------- 1. Bar Chart: Category vs Avg. Views -----------------\n",
    "plt.subplot(1, 3, 1)\n",
    "category_views = df.groupby('category_id')['views'].mean().sort_values(ascending=False)\n",
    "sns.barplot(x=category_views.index, y=category_views.values, palette=\"Blues_d\")\n",
    "plt.title('Avg. Views per Category')\n",
    "plt.xlabel('Category ID')\n",
    "plt.ylabel('Average Views')\n",
    "\n",
    "# ----------------- 2. Line Plot: Publish Hour vs Avg. Likes -----------------\n",
    "plt.subplot(1, 3, 2)\n",
    "hour_likes = df.groupby('publish_hour')['likes'].mean()\n",
    "sns.lineplot(x=hour_likes.index, y=hour_likes.values, marker='o')\n",
    "plt.title('Avg. Likes by Publish Hour')\n",
    "plt.xlabel('Publish Hour (0-23)')\n",
    "plt.ylabel('Average Likes')\n",
    "\n",
    "# ----------------- 3. Heatmap: Correlation -----------------\n",
    "plt.subplot(1, 3, 3)\n",
    "corr = df[['views', 'likes', 'dislikes', 'comment_count']].corr()\n",
    "sns.heatmap(corr, annot=True, cmap='coolwarm', fmt=\".2f\")\n",
    "plt.title('Correlation Heatmap')\n",
    "\n",
    "# Show all plots\n",
    "plt.tight_layout()\n",
    "plt.show()\n"
   ]
  },
  {
   "cell_type": "markdown",
   "id": "ae6100e8-d480-496d-be45-7717d1b04895",
   "metadata": {},
   "source": [
    "# Feature Engineering"
   ]
  },
  {
   "cell_type": "code",
   "execution_count": 30,
   "id": "5a2e242e-ffe1-42a1-ba3f-cc0649e79d79",
   "metadata": {},
   "outputs": [],
   "source": [
    "df['engagement'] = df['likes'] + df['comment_count'] - df['dislikes']\n",
    "df['title_length'] = df['title'].apply(len)"
   ]
  },
  {
   "cell_type": "markdown",
   "id": "f22c9b6f-1890-4c62-a125-52428581e14f",
   "metadata": {},
   "source": [
    "#### This will show the video title along with its engagement and title length for the first 5 rows.\n",
    "\n"
   ]
  },
  {
   "cell_type": "code",
   "execution_count": 32,
   "id": "a3c076a1-f524-4a79-9693-d28259a94c4b",
   "metadata": {},
   "outputs": [
    {
     "name": "stdout",
     "output_type": "stream",
     "text": [
      "                                               title  engagement  title_length\n",
      "0  Sharry Mann: Cute Munda ( Song Teaser) | Parmi...       34050            81\n",
      "1  पीरियड्स के समय, पेट पर पति करता ऐसा, देखकर दं...        -169            58\n",
      "2  Stylish Star Allu Arjun @ ChaySam Wedding Rece...        1917            58\n",
      "3                     Eruma Saani | Tamil vs English       71413            30\n",
      "4  why Samantha became EMOTIONAL @ Samantha naga ...         265            88\n"
     ]
    }
   ],
   "source": [
    "print(df[['title', 'engagement', 'title_length']].head())\n"
   ]
  },
  {
   "cell_type": "markdown",
   "id": "39017019-2f47-4d60-a7e3-76f68fa6cfdd",
   "metadata": {},
   "source": [
    "## Descriptive statistics"
   ]
  },
  {
   "cell_type": "code",
   "execution_count": 34,
   "id": "0bfae855-8b2f-4c48-b3be-cf8092f452c9",
   "metadata": {},
   "outputs": [
    {
     "name": "stdout",
     "output_type": "stream",
     "text": [
      "         engagement  title_length\n",
      "count  3.735200e+04  37352.000000\n",
      "mean   2.809463e+04     70.563370\n",
      "std    1.014305e+05     22.405722\n",
      "min   -1.907100e+04      5.000000\n",
      "25%    7.880000e+02     53.000000\n",
      "50%    3.010000e+03     74.000000\n",
      "75%    1.394700e+04     91.000000\n",
      "max    2.901634e+06    100.000000\n"
     ]
    }
   ],
   "source": [
    "print(df[['engagement', 'title_length']].describe())\n"
   ]
  },
  {
   "cell_type": "code",
   "execution_count": 36,
   "id": "c9c8df36-740a-4f0e-88c4-aded9090021d",
   "metadata": {},
   "outputs": [
    {
     "name": "stdout",
     "output_type": "stream",
     "text": [
      "                                                  title  engagement\n",
      "4477  Marvel Studios' Avengers: Infinity War Officia...     2901634\n",
      "4236  Marvel Studios' Avengers: Infinity War Officia...     2874069\n",
      "4013  Marvel Studios' Avengers: Infinity War Officia...     2844111\n",
      "3823  Marvel Studios' Avengers: Infinity War Officia...     2799852\n",
      "3639  Marvel Studios' Avengers: Infinity War Officia...     2729494\n",
      "3456  Marvel Studios' Avengers: Infinity War Officia...     2606383\n",
      "3256  Marvel Studios' Avengers: Infinity War Officia...     2426834\n",
      "5408  YouTube Rewind: The Shape of 2017 | #YouTubeRe...     2175251\n",
      "5119  YouTube Rewind: The Shape of 2017 | #YouTubeRe...     2128003\n",
      "4936  YouTube Rewind: The Shape of 2017 | #YouTubeRe...     1985912\n"
     ]
    }
   ],
   "source": [
    "print(df[['title', 'engagement']].sort_values(by='engagement', ascending=False).head(10))"
   ]
  },
  {
   "cell_type": "markdown",
   "id": "625a2078-b5a0-4005-8cc2-ec99115b96e3",
   "metadata": {},
   "source": [
    "## Histogram or visualization"
   ]
  },
  {
   "cell_type": "code",
   "execution_count": 38,
   "id": "6263775c-dcc6-4e2c-a4d1-34e5b7002a1f",
   "metadata": {},
   "outputs": [
    {
     "data": {
      "image/png": "[encoded data removed]",
      "text/plain": [
       "<Figure size 640x480 with 1 Axes>"
      ]
     },
     "metadata": {},
     "output_type": "display_data"
    }
   ],
   "source": [
    "import seaborn as sns\n",
    "import matplotlib.pyplot as plt\n",
    "\n",
    "sns.histplot(df['title_length'], bins=30)\n",
    "plt.title(\"Distribution of Title Lengths\")\n",
    "plt.xlabel(\"Title Length\")\n",
    "plt.ylabel(\"Frequency\")\n",
    "plt.show()"
   ]
  },
  {
   "cell_type": "markdown",
   "id": "8cbf4678-6d73-40f3-874c-8aedb889b183",
   "metadata": {},
   "source": [
    "# Build Content-Based Recommendation System"
   ]
  },
  {
   "cell_type": "markdown",
   "id": "e606ffbb-768c-4616-b1e5-d8882866da10",
   "metadata": {},
   "source": [
    "###  Text Vectorization (TF-IDF)"
   ]
  },
  {
   "cell_type": "code",
   "execution_count": 40,
   "id": "26ba1234-56da-472d-b84a-1d815c535cce",
   "metadata": {},
   "outputs": [],
   "source": [
    "from sklearn.feature_extraction.text import TfidfVectorizer\n",
    "\n",
    "tfidf = TfidfVectorizer(stop_words='english')\n",
    "tfidf_matrix = tfidf.fit_transform(df['title'])"
   ]
  },
  {
   "cell_type": "markdown",
   "id": "5d660492-de26-4ea4-a832-a5cd70025575",
   "metadata": {},
   "source": [
    "## Cosine Similarity"
   ]
  },
  {
   "cell_type": "code",
   "execution_count": 41,
   "id": "5147784f-d99f-486e-9301-4b836db67ffe",
   "metadata": {},
   "outputs": [
    {
     "name": "stdout",
     "output_type": "stream",
     "text": [
      "Video: Sharry Mann: Cute Munda ( Song Teaser) | Parmish Verma | Releasing on 17 November\n",
      "\n",
      "Recommended:\n",
      "- Sharry Mann: Cute Munda ( Song Teaser) | Parmish Verma | Releasing on 17 November\n",
      "- Sharry Mann: Cute Munda ( Song Teaser) | Parmish Verma | Releasing on 17 November\n",
      "- Cute Munda - Sharry Mann (Full Video Song) | Parmish Verma | Punjabi Songs 2017 | Lokdhun Punjabi\n",
      "- Cute Munda - Sharry Mann (Full Video Song) | Parmish Verma | Punjabi Songs 2017 | Lokdhun Punjabi\n",
      "- Cute Munda - Sharry Mann (Full Video Song) | Parmish Verma | Punjabi Songs 2017 | Lokdhun Punjabi\n"
     ]
    }
   ],
   "source": [
    "from sklearn.feature_extraction.text import TfidfVectorizer\n",
    "from sklearn.neighbors import NearestNeighbors\n",
    "\n",
    "# TF-IDF vectorizer\n",
    "tfidf = TfidfVectorizer(stop_words='english', max_features=10000)\n",
    "tfidf_matrix = tfidf.fit_transform(df['title'])\n",
    "\n",
    "# Use NearestNeighbors to get top N similar items (much more memory-efficient)\n",
    "nn = NearestNeighbors(metric='cosine', algorithm='brute')\n",
    "nn.fit(tfidf_matrix)\n",
    "\n",
    "# Example: Get top 5 similar videos to video index 0\n",
    "distances, indices = nn.kneighbors(tfidf_matrix[0], n_neighbors=6)  # 6 because first is itself\n",
    "similar_video_indices = indices[0][1:]  # skip the first (itself)\n",
    "\n",
    "print(\"Video:\", df.iloc[0]['title'])\n",
    "print(\"\\nRecommended:\")\n",
    "for idx in similar_video_indices:\n",
    "    print(\"-\", df.iloc[idx]['title'])\n"
   ]
  },
  {
   "cell_type": "markdown",
   "id": "a4eecaaf-689d-42b9-9c0c-60acacca1ff8",
   "metadata": {},
   "source": [
    "##  Recommendation Function"
   ]
  },
  {
   "cell_type": "code",
   "execution_count": 45,
   "id": "21cf256a-bab9-4d30-82ae-5e58b45b19b2",
   "metadata": {},
   "outputs": [],
   "source": [
    "def recommend(title, n=5):\n",
    "    title = title.strip().lower()\n",
    "    \n",
    "    # Match title case-insensitively\n",
    "    match = df[df['title'].str.lower() == title]\n",
    "    \n",
    "    if match.empty:\n",
    "        return \"❌ Title not found in dataset. Please check for typos or case.\"\n",
    "\n",
    "    idx = match.index[0]\n",
    "    \n",
    "    # Get n+1 neighbors (including itself)\n",
    "    distances, indices = nn.kneighbors(tfidf_matrix[idx], n_neighbors=n+1)\n",
    "    \n",
    "    # Exclude the input title itself\n",
    "    recommended_indices = indices[0][1:]\n",
    "    \n",
    "    print(f\"🎬 Input Video: {df.iloc[idx]['title']}\\n\")\n",
    "    print(\"📋 Recommended Videos:\")\n",
    "    for i in recommended_indices:\n",
    "        print(f\"• {df.iloc[i]['title']}\")\n"
   ]
  },
  {
   "cell_type": "code",
   "execution_count": 51,
   "id": "1b7f3914-48b1-4c67-bb0d-41217d474e61",
   "metadata": {},
   "outputs": [
    {
     "name": "stdout",
     "output_type": "stream",
     "text": [
      "🎥 YouTube Video Recommender (India) 🇮🇳\n",
      "--------------------------------------\n"
     ]
    },
    {
     "name": "stdin",
     "output_type": "stream",
     "text": [
      "\n",
      "Enter a video title (or 'exit' to quit):  harry Mann: Cute Munda ( Song Teaser) | Parmish Verma | Releasing on 17 November\n"
     ]
    },
    {
     "name": "stdout",
     "output_type": "stream",
     "text": [
      "\n",
      "🎬 Input Title Match: Sharry Mann: Cute Munda ( Song Teaser) | Parmish Verma | Releasing on 17 November\n",
      "\n",
      "📋 Recommended Videos:\n",
      "• Cute Munda - Sharry Mann (Full Video Song) | Parmish Verma | Punjabi Songs 2017 | Lokdhun Punjabi\n",
      "• Sharry Mann: Love You ( Teaser) | Parmish Verma | Mistabaaz | Full Song Releasing on 30th December\n",
      "• Sharry Mann: Love You ( Audio Song) | Parmish Verma | Mista Baaz | Releasing on 30 December\n",
      "• Sharry Mann- Love You (Official Song) | Parmish Verma | Latest Punjabi Song 2018 | Lokdhun\n",
      "• Sharry Mann- Love You (Full Video Song) | Parmish Verma | Mista Baaz | Punjabi Songs 2018 | Lokdhun\n"
     ]
    },
    {
     "name": "stdin",
     "output_type": "stream",
     "text": [
      "\n",
      "Enter a video title (or 'exit' to quit):  ute Munda - Sharry Mann (Full Video Song) | Parmish Verma | Punjabi Songs 2017 | Lokdhun Punjabi\n"
     ]
    },
    {
     "name": "stdout",
     "output_type": "stream",
     "text": [
      "\n",
      "🎬 Input Title Match: Cute Munda - Sharry Mann (Full Video Song) | Parmish Verma | Punjabi Songs 2017 | Lokdhun Punjabi\n",
      "\n",
      "📋 Recommended Videos:\n",
      "• TIME IS MONEY | RishhSome\n",
      "• 13 Reasons Why: Season 2 | Official Trailer [HD] | Netflix\n",
      "• OnePlus 6 Review: Right On the Money!\n",
      "• 13 Reasons Why: Season 2 | Date Announcement [HD] | Netflix\n",
      "• BLACK MONEY | Watch Till The End\n"
     ]
    },
    {
     "name": "stdin",
     "output_type": "stream",
     "text": [
      "\n",
      "Enter a video title (or 'exit' to quit):  BLACK MONEY | Watch Till The End\n"
     ]
    },
    {
     "name": "stdout",
     "output_type": "stream",
     "text": [
      "\n",
      "🎬 Input Title Match: BLACK MONEY | Watch Till The End\n",
      "\n",
      "📋 Recommended Videos:\n",
      "• Solvathellam Unmai Season 2 - Episode 438 - December 07, 2017 - Shorts\n",
      "• Comedy Khiladigalu Season 2 - Episode 4 - January 07, 2018 - Best Scene\n",
      "• Comedy Khiladigalu Season 2 - Episode 1 - December 30, 2017 - Best Scene\n",
      "• Comedy Khiladigalu Season 2 - Episode 2 - December 31, 2017 - Best Scene\n",
      "• Sembarathi - Episode 145 - May 07, 2018 - Best Scene\n"
     ]
    },
    {
     "name": "stdin",
     "output_type": "stream",
     "text": [
      "\n",
      "Enter a video title (or 'exit' to quit):  exit\n"
     ]
    },
    {
     "name": "stdout",
     "output_type": "stream",
     "text": [
      "👋 Exiting recommender. Goodbye!\n"
     ]
    }
   ],
   "source": [
    "import pandas as pd\n",
    "from sklearn.feature_extraction.text import TfidfVectorizer\n",
    "from sklearn.neighbors import NearestNeighbors\n",
    "from difflib import get_close_matches\n",
    "\n",
    "# -------------------------------\n",
    "# Load Data\n",
    "# -------------------------------\n",
    "df = pd.read_csv(\"INvideos.csv\")\n",
    "df['title'] = df['title'].fillna(\"\").astype(str)\n",
    "df.drop_duplicates(subset='title', inplace=True)\n",
    "\n",
    "# -------------------------------\n",
    "# TF-IDF Vectorization\n",
    "# -------------------------------\n",
    "tfidf = TfidfVectorizer(stop_words='english', max_features=10000)\n",
    "tfidf_matrix = tfidf.fit_transform(df['title'])\n",
    "\n",
    "# -------------------------------\n",
    "# Fit Nearest Neighbors Model\n",
    "# -------------------------------\n",
    "nn = NearestNeighbors(metric='cosine', algorithm='brute')\n",
    "nn.fit(tfidf_matrix)\n",
    "\n",
    "# -------------------------------\n",
    "# Fuzzy-Matching Based Recommend Function\n",
    "# -------------------------------\n",
    "def recommend(title_input, n=5):\n",
    "    # Fuzzy match the title\n",
    "    all_titles = df['title'].tolist()\n",
    "    matches = get_close_matches(title_input, all_titles, n=1, cutoff=0.4)\n",
    "\n",
    "    if not matches:\n",
    "        print(\"❌ Title not found. Try a different keyword or correct spelling.\")\n",
    "        return\n",
    "\n",
    "    matched_title = matches[0]\n",
    "    idx = df[df['title'] == matched_title].index[0]\n",
    "\n",
    "    # Find similar videos\n",
    "    distances, indices = nn.kneighbors(tfidf_matrix[idx], n_neighbors=n+1)\n",
    "    recommended_indices = indices[0][1:]\n",
    "\n",
    "    print(f\"\\n🎬 Input Title Match: {matched_title}\\n\")\n",
    "    print(\"📋 Recommended Videos:\")\n",
    "    for i in recommended_indices:\n",
    "        print(f\"• {df.iloc[i]['title']}\")\n",
    "\n",
    "\n",
    "# -------------------------------\n",
    "# Interactive CLI\n",
    "# -------------------------------\n",
    "if __name__ == \"__main__\":\n",
    "    print(\"🎥 YouTube Video Recommender (India) 🇮🇳\")\n",
    "    print(\"--------------------------------------\")\n",
    "\n",
    "    while True:\n",
    "        user_input = input(\"\\nEnter a video title (or 'exit' to quit): \")\n",
    "        if user_input.lower() in ['exit', 'quit']:\n",
    "            print(\"👋 Exiting recommender. Goodbye!\")\n",
    "            break\n",
    "\n",
    "        recommend(user_input)\n"
   ]
  },
  {
   "cell_type": "markdown",
   "id": "ab96e284-d046-4b15-a33e-60320757e6f0",
   "metadata": {},
   "source": [
    "# Analyze and Rank Recommendations by Engagement"
   ]
  },
  {
   "cell_type": "code",
   "execution_count": 58,
   "id": "9cecab0b-27b9-4c0d-883f-d2de0898c391",
   "metadata": {},
   "outputs": [
    {
     "name": "stdout",
     "output_type": "stream",
     "text": [
      "🎥 Indian YouTube Video Recommender System 🇮🇳\n",
      "------------------------------------------------\n"
     ]
    },
    {
     "name": "stdin",
     "output_type": "stream",
     "text": [
      "\n",
      "Enter a video title (or type 'exit' to quit):  Solvathellam Unmai Season 2 - Episode 438\n"
     ]
    },
    {
     "name": "stdout",
     "output_type": "stream",
     "text": [
      "\n",
      "🎬 Recommendations for: Solvathellam Unmai Season 2 - Episode 438 - December 07, 2017 - Shorts\n",
      "                                                                                             title  engagement\n",
      "                                                         Mass Bunking Ft Bakkbenchers | MostlySane       43451\n",
      "           REAL REASON why Thala didn't go to Natchathira Kalai Vizha 2018 | Hot Tamil Cinema News        4880\n",
      "நட்சத்திர விழாவை அதிர வைத்த விஜய் மற்றும் அஜித்  ajith and vijay  function  Natchathira Vizha 2018        1453\n",
      "                    Rajini and Kamal Mass Entry in Malaysia | Natchathira Vizha 2018 | Latest News        1342\n",
      "            Ajith would've NEVER said that about Natchathira Kalai Vizha : Mansoor Ali Khan Speech        1034\n"
     ]
    },
    {
     "name": "stdin",
     "output_type": "stream",
     "text": [
      "\n",
      "Enter a video title (or type 'exit' to quit):  Ajith would've NEVER said that about Natchathira Kalai Vizha : Mansoor Ali Khan Speech\n"
     ]
    },
    {
     "name": "stdout",
     "output_type": "stream",
     "text": [
      "\n",
      "🎬 Recommendations for: Ajith would've NEVER said that about Natchathira Kalai Vizha : Mansoor Ali Khan Speech\n",
      "                                                                                              title  engagement\n",
      "                      அஸ்வினியின் கடைசி நிமிடங்களில் நடந்தது என்ன தெரியுமா ? உறையவைக்கும் காரணங்கள்        1060\n",
      "நடிகை ஸ்ரீதேவிக்கு துபாயில் உண்மையில் என்ன நடந்தது ? Sridevi last minutes in Dubai, Actress Sridevi         348\n",
      "                            ஸ்ரீதேவி துடிதுடித்த கடைசி நிமிடங்கள்-உண்மையில் என்ன நடந்தது தெரியுமா ?         300\n",
      "                        ஜெ துடிதுடித்த கடைசிநிமிடங்கள்- சசிகலா நேரடி வாக்குமூலத்தில் வெளிவந்த உண்மை         266\n",
      "                                              Breaking News IT Raid - நடந்தது என்ன? சிக்கியது என்ன?          10\n"
     ]
    },
    {
     "name": "stdin",
     "output_type": "stream",
     "text": [
      "\n",
      "Enter a video title (or type 'exit' to quit):  exit\n"
     ]
    },
    {
     "name": "stdout",
     "output_type": "stream",
     "text": [
      "👋 Goodbye!\n"
     ]
    }
   ],
   "source": [
    "import pandas as pd\n",
    "from sklearn.feature_extraction.text import TfidfVectorizer\n",
    "from sklearn.neighbors import NearestNeighbors\n",
    "from difflib import get_close_matches\n",
    "\n",
    "# -------------------------------\n",
    "# Load & Preprocess Data\n",
    "# -------------------------------\n",
    "df = pd.read_csv(\"INvideos.csv\")\n",
    "df['title'] = df['title'].fillna(\"\").astype(str)\n",
    "df.drop_duplicates(subset='title', inplace=True)\n",
    "\n",
    "# Create engagement score for ranking later\n",
    "df['engagement'] = df['likes'] + df['comment_count'] - df['dislikes']\n",
    "\n",
    "# -------------------------------\n",
    "# TF-IDF Vectorization & Model Training\n",
    "# -------------------------------\n",
    "tfidf = TfidfVectorizer(stop_words='english', max_features=10000)\n",
    "tfidf_matrix = tfidf.fit_transform(df['title'])\n",
    "\n",
    "nn = NearestNeighbors(metric='cosine', algorithm='brute')\n",
    "nn.fit(tfidf_matrix)\n",
    "\n",
    "# -------------------------------\n",
    "# Recommendation Function\n",
    "# -------------------------------\n",
    "def recommend(title_input, n=5):\n",
    "    all_titles = df['title'].tolist()\n",
    "    matches = get_close_matches(title_input, all_titles, n=1, cutoff=0.4)\n",
    "\n",
    "    if not matches:\n",
    "        print(\"❌ Title not found. Try a different keyword or correct spelling.\")\n",
    "        return None, []\n",
    "\n",
    "    matched_title = matches[0]\n",
    "    idx = df[df['title'] == matched_title].index[0]\n",
    "\n",
    "    distances, indices = nn.kneighbors(tfidf_matrix[idx], n_neighbors=n+1)\n",
    "    # Exclude the input itself and ensure indices are valid\n",
    "    recommended_indices = [i for i in indices[0] if i != idx and i < len(df)]\n",
    "\n",
    "    return matched_title, recommended_indices\n",
    "\n",
    "# -------------------------------\n",
    "# Rank Recommendations by Engagement\n",
    "# -------------------------------\n",
    "def get_ranked_recommendations(title, n=5):\n",
    "    matched_title, recommended_indices = recommend(title, n)\n",
    "\n",
    "    if not recommended_indices:\n",
    "        print(\"❌ No recommendations found.\")\n",
    "        return\n",
    "\n",
    "    recommended_df = df.iloc[recommended_indices].copy()\n",
    "    ranked_df = recommended_df.sort_values(by='engagement', ascending=False)\n",
    "\n",
    "    print(f\"\\n🎬 Recommendations for: {matched_title}\")\n",
    "    print(ranked_df[['title', 'engagement']].head(n).to_string(index=False))\n",
    "\n",
    "# -------------------------------\n",
    "# Interactive Command Line Interface\n",
    "# -------------------------------\n",
    "if __name__ == \"__main__\":\n",
    "    print(\"🎥 Indian YouTube Video Recommender System 🇮🇳\")\n",
    "    print(\"------------------------------------------------\")\n",
    "\n",
    "    while True:\n",
    "        user_input = input(\"\\nEnter a video title (or type 'exit' to quit): \").strip()\n",
    "        if user_input.lower() in ['exit', 'quit']:\n",
    "            print(\"👋 Goodbye!\")\n",
    "            break\n",
    "        get_ranked_recommendations(user_input, n=5)\n"
   ]
  },
  {
   "cell_type": "markdown",
   "id": "c6e421a1-96fe-4295-afd6-813dc30ddae2",
   "metadata": {},
   "source": [
    "## Evaluation Metrics"
   ]
  },
  {
   "cell_type": "code",
   "execution_count": 64,
   "id": "80bec7d4-d7e5-4f6e-ab31-d08694775559",
   "metadata": {},
   "outputs": [],
   "source": [
    "def precision_at_k(recommended, relevant, k):\n",
    "    recommended_k = recommended[:k]\n",
    "    relevant_set = set(relevant)\n",
    "    hits = sum(1 for item in recommended_k if item in relevant_set)\n",
    "    return hits / k\n",
    "\n",
    "def recall_at_k(recommended, relevant, k):\n",
    "    recommended_k = recommended[:k]\n",
    "    relevant_set = set(relevant)\n",
    "    hits = sum(1 for item in recommended_k if item in relevant_set)\n",
    "    return hits / len(relevant_set) if relevant_set else 0\n",
    "\n",
    "def f1_at_k(precision, recall):\n",
    "    return 2 * (precision * recall) / (precision + recall) if (precision + recall) else 0\n"
   ]
  },
  {
   "cell_type": "code",
   "execution_count": 66,
   "id": "df6a276f-6334-4b52-9a77-b6a92ad9cdc5",
   "metadata": {},
   "outputs": [
    {
     "name": "stdout",
     "output_type": "stream",
     "text": [
      "Precision@5: 0.40\n",
      "Recall@5: 0.67\n",
      "F1@5: 0.50\n"
     ]
    }
   ],
   "source": [
    "recommended_videos = ['vid1', 'vid2', 'vid3', 'vid4', 'vid5']\n",
    "relevant_videos = ['vid3', 'vid4', 'vid6']\n",
    "\n",
    "precision = precision_at_k(recommended_videos, relevant_videos, 5)\n",
    "recall = recall_at_k(recommended_videos, relevant_videos, 5)\n",
    "f1 = f1_at_k(precision, recall)\n",
    "\n",
    "print(f'Precision@5: {precision:.2f}')\n",
    "print(f'Recall@5: {recall:.2f}')\n",
    "print(f'F1@5: {f1:.2f}')\n"
   ]
  },
  {
   "cell_type": "markdown",
   "id": "ea3dbb65-51f0-4500-84b2-d1a851837fbf",
   "metadata": {},
   "source": [
    "## Interpreting the Metrics\n",
    "Precision@K: High precision indicates that the recommended videos are relevant to the user's interests.\n",
    "\n",
    "Recall@K: High recall suggests that the system retrieves most of the relevant videos available.\n",
    "\n",
    "F1@K: A balanced measure that considers both precision and recall."
   ]
  },
  {
   "cell_type": "markdown",
   "id": "bab2f655-7f26-4ad2-97ce-857ae990c24e",
   "metadata": {},
   "source": [
    "## Incorporate Additional Features\n",
    "Enhance the feature set by including video descriptions and tags alongside titles. This provides a richer context for similarity computations."
   ]
  },
  {
   "cell_type": "code",
   "execution_count": 98,
   "id": "dde45fe4-4033-44a4-afab-b4e9a35bc91e",
   "metadata": {},
   "outputs": [],
   "source": [
    "df['description'] = df['description'].fillna(\"\").astype(str)\n",
    "df['tags'] = df['tags'].fillna(\"\").astype(str)\n",
    "df['combined_features'] = df['title'] + ' ' + df['description'] + ' ' + df['tags']\n"
   ]
  },
  {
   "cell_type": "markdown",
   "id": "57c23be4-17ea-4695-a900-85b1855b3d30",
   "metadata": {},
   "source": [
    "* Python code that implements a YouTube video recommendation system using content-based filtering with TF-IDF vectorization and cosine similarity. This approach utilizes video metadata such as titles, descriptions, and tags to recommend similar videos."
   ]
  },
  {
   "cell_type": "code",
   "execution_count": 112,
   "id": "dd213412-cb9f-4e25-9a77-783c85ba8672",
   "metadata": {},
   "outputs": [
    {
     "name": "stdout",
     "output_type": "stream",
     "text": [
      "🎥 Indian YouTube Video Recommender System 🇮🇳\n",
      "------------------------------------------------\n"
     ]
    },
    {
     "name": "stdin",
     "output_type": "stream",
     "text": [
      "\n",
      "Enter a video title (or type 'exit' to quit):  Stylish Star Allu Arjun @ ChaySam Wedding Reception\n"
     ]
    },
    {
     "name": "stdout",
     "output_type": "stream",
     "text": [
      "\n",
      "🎬 Recommendations for: Stylish Star Allu Arjun @ ChaySam Wedding Reception | TFPC\n",
      "                                                                                          title  engagement\n",
      "                                     Stylish Star Allu Arjun @ ChaySam Wedding Reception | TFPC        2832\n",
      "                                     Stylish Star Allu Arjun @ ChaySam Wedding Reception | TFPC        2790\n",
      "                                     Stylish Star Allu Arjun @ ChaySam Wedding Reception | TFPC        2588\n",
      "        Brahmanandam @#ChaySam Wedding Reception || Naga Chaitanya, Samantha Akkineni Reception         154\n",
      "Varun Tej And Rana Dagubati Making Fun With Samantha In #ChaySam Wedding Reception | Film Jalsa          21\n"
     ]
    },
    {
     "name": "stdin",
     "output_type": "stream",
     "text": [
      "\n",
      "Enter a video title (or type 'exit' to quit):  exit\n"
     ]
    },
    {
     "name": "stdout",
     "output_type": "stream",
     "text": [
      "👋 Goodbye!\n"
     ]
    }
   ],
   "source": [
    "import pandas as pd\n",
    "from sklearn.feature_extraction.text import TfidfVectorizer\n",
    "from sklearn.neighbors import NearestNeighbors\n",
    "from difflib import get_close_matches\n",
    "\n",
    "# -------------------------------\n",
    "# Load & Preprocess Data\n",
    "# -------------------------------\n",
    "df = pd.read_csv(\"INvideos.csv\")\n",
    "df['title'] = df['title'].fillna(\"\").astype(str)\n",
    "df['description'] = df['description'].fillna(\"\").astype(str)\n",
    "df['tags'] = df['tags'].fillna(\"\").astype(str)\n",
    "df['combined_features'] = df['title'] + ' ' + df['description'] + ' ' + df['tags']\n",
    "\n",
    "# Create engagement score for ranking later\n",
    "df['engagement'] = df['likes'] + df['comment_count'] - df['dislikes']\n",
    "\n",
    "# -------------------------------\n",
    "# TF-IDF Vectorization & Model Training\n",
    "# -------------------------------\n",
    "tfidf = TfidfVectorizer(stop_words='english', max_features=10000)\n",
    "tfidf_matrix = tfidf.fit_transform(df['combined_features'])\n",
    "\n",
    "nn = NearestNeighbors(metric='cosine', algorithm='brute')\n",
    "nn.fit(tfidf_matrix)\n",
    "\n",
    "# -------------------------------\n",
    "# Recommendation Function\n",
    "# -------------------------------\n",
    "def recommend(title_input, n=5):\n",
    "    all_titles = df['title'].tolist()\n",
    "    matches = get_close_matches(title_input, all_titles, n=1, cutoff=0.4)\n",
    "\n",
    "    if not matches:\n",
    "        print(\"❌ Title not found. Try a different keyword or correct spelling.\")\n",
    "        return None, []\n",
    "\n",
    "    matched_title = matches[0]\n",
    "    idx = df[df['title'] == matched_title].index[0]\n",
    "\n",
    "    distances, indices = nn.kneighbors(tfidf_matrix[idx], n_neighbors=n+1)\n",
    "    recommended_indices = [i for i in indices[0] if i != idx and i < len(df)]\n",
    "\n",
    "    return matched_title, recommended_indices\n",
    "\n",
    "# -------------------------------\n",
    "# Rank Recommendations by Engagement\n",
    "# -------------------------------\n",
    "def get_ranked_recommendations(title, n=5):\n",
    "    matched_title, recommended_indices = recommend(title, n)\n",
    "\n",
    "    if not recommended_indices:\n",
    "        print(\"❌ No recommendations found.\")\n",
    "        return\n",
    "\n",
    "    recommended_df = df.iloc[recommended_indices].copy()\n",
    "    ranked_df = recommended_df.sort_values(by='engagement', ascending=False)\n",
    "\n",
    "    print(f\"\\n🎬 Recommendations for: {matched_title}\")\n",
    "    print(ranked_df[['title', 'engagement']].head(n).to_string(index=False))\n",
    "\n",
    "# -------------------------------\n",
    "# Interactive Command Line Interface\n",
    "# -------------------------------\n",
    "if __name__ == \"__main__\":\n",
    "    print(\"🎥 Indian YouTube Video Recommender System 🇮🇳\")\n",
    "    print(\"------------------------------------------------\")\n",
    "\n",
    "    while True:\n",
    "        user_input = input(\"\\nEnter a video title (or type 'exit' to quit): \").strip()\n",
    "        if user_input.lower() in ['exit', 'quit']:\n",
    "            print(\"👋 Goodbye!\")\n",
    "            break\n",
    "        get_ranked_recommendations(user_input, n=5)\n"
   ]
  },
  {
   "cell_type": "markdown",
   "id": "64ef3fb3-c288-4d12-8a46-4f3d40c1368a",
   "metadata": {},
   "source": [
    "## Visualizing the Metrics"
   ]
  },
  {
   "cell_type": "code",
   "execution_count": 116,
   "id": "60cc5f06-b80d-4833-85eb-56765a7a2624",
   "metadata": {},
   "outputs": [
    {
     "data": {
      "image/png": "[encoded data removed]",
      "text/plain": [
       "<Figure size 1000x600 with 1 Axes>"
      ]
     },
     "metadata": {},
     "output_type": "display_data"
    }
   ],
   "source": [
    "import matplotlib.pyplot as plt\n",
    "\n",
    "def plot_metrics(metrics, k_values):\n",
    "    \"\"\"\n",
    "    Plot Precision, Recall, and F1 scores against different values of K.\n",
    "\n",
    "    Parameters:\n",
    "    - metrics: Dictionary containing 'precision', 'recall', and 'f1' lists.\n",
    "    - k_values: List of K values to plot.\n",
    "    \"\"\"\n",
    "    plt.figure(figsize=(10, 6))\n",
    "    plt.plot(k_values, metrics['precision'], label='Precision@K', marker='o')\n",
    "    plt.plot(k_values, metrics['recall'], label='Recall@K', marker='s')\n",
    "    plt.plot(k_values, metrics['f1'], label='F1@K', marker='^')\n",
    "    plt.xlabel('K (Number of Recommendations)')\n",
    "    plt.ylabel('Score')\n",
    "    plt.title('Evaluation Metrics vs. Number of Recommendations')\n",
    "    plt.legend()\n",
    "    plt.grid(True)\n",
    "    plt.show()\n",
    "\n",
    "# Example usage\n",
    "metrics = {\n",
    "    'precision': [0.40, 0.50, 0.60, 0.70],\n",
    "    'recall': [0.67, 0.75, 0.80, 0.85],\n",
    "    'f1': [0.50, 0.60, 0.69, 0.77]\n",
    "}\n",
    "k_values = [5, 10, 15, 20]\n",
    "\n",
    "plot_metrics(metrics, k_values)\n"
   ]
  },
  {
   "cell_type": "code",
   "execution_count": null,
   "id": "48bd3d09-2774-4e7e-a60a-e5d9d01e5f46",
   "metadata": {},
   "outputs": [],
   "source": []
  }
 ],
 "metadata": {
  "kernelspec": {
   "display_name": "Python 3.6 (py36env)",
   "language": "python",
   "name": "py36env"
  },
  "language_info": {
   "codemirror_mode": {
    "name": "ipython",
    "version": 3
   },
   "file_extension": ".py",
   "mimetype": "text/x-python",
   "name": "python",
   "nbconvert_exporter": "python",
   "pygments_lexer": "ipython3",
   "version": "3.12.7"
  }
 },
 "nbformat": 4,
 "nbformat_minor": 5
}
